{
 "cells": [
  {
   "cell_type": "markdown",
   "metadata": {},
   "source": [
    "Chapters 1 and 2 exercises"
   ]
  },
  {
   "cell_type": "code",
   "execution_count": null,
   "metadata": {},
   "outputs": [
    {
     "name": "stdout",
     "output_type": "stream",
     "text": [
      "Hello Python World!\n"
     ]
    }
   ],
   "source": [
    "message = \"Hello Python World!\"\n",
    "print(message)"
   ]
  },
  {
   "cell_type": "code",
   "execution_count": 1,
   "metadata": {},
   "outputs": [
    {
     "name": "stdout",
     "output_type": "stream",
     "text": [
      "I can't believe I was finally able to push the Git commit!\n"
     ]
    }
   ],
   "source": [
    "print(\"I can't believe I was finally able to push the Git commit!\")"
   ]
  },
  {
   "cell_type": "code",
   "execution_count": 1,
   "metadata": {},
   "outputs": [
    {
     "name": "stdout",
     "output_type": "stream",
     "text": [
      "Ada Lovelace\n"
     ]
    }
   ],
   "source": [
    "name = \"ada lovelace\"\n",
    "print(name.title())"
   ]
  },
  {
   "cell_type": "markdown",
   "metadata": {},
   "source": [
    "name is a variable. print is a function. .title is a method affecting name. .lower is another fun option, to remove capitalization from users."
   ]
  },
  {
   "cell_type": "code",
   "execution_count": 2,
   "metadata": {},
   "outputs": [
    {
     "name": "stdout",
     "output_type": "stream",
     "text": [
      "Hello, Ada Lovelace!\n"
     ]
    }
   ],
   "source": [
    "first_name = \"ada\"\n",
    "last_name = \"lovelace\"\n",
    "full_name = f\"{first_name} {last_name}\"\n",
    "print(f\"Hello, {full_name.title()}!\")"
   ]
  },
  {
   "cell_type": "markdown",
   "metadata": {},
   "source": [
    "f-string: To insert variable's value into a string, use the letter f before the opening quotation mark. The curly brackets indicate that we're calling a variable rather than just string text."
   ]
  },
  {
   "cell_type": "markdown",
   "metadata": {},
   "source": [
    "Fun with whitespaces (tab indents and newlines)"
   ]
  },
  {
   "cell_type": "code",
   "execution_count": 4,
   "metadata": {},
   "outputs": [
    {
     "name": "stdout",
     "output_type": "stream",
     "text": [
      "\tPython with a tab indent\n",
      "Languages with line breaks AKA newlines:\n",
      "Python\n",
      "C\n",
      "JavaScript\n",
      "Languages with tabs AND line breaks:\n",
      "\tPython\n",
      "\tC\n",
      "\tJavaScript\n"
     ]
    }
   ],
   "source": [
    "print(\"\\tPython with a tab indent\")\n",
    "print(\"Languages with line breaks AKA newlines:\\nPython\\nC\\nJavaScript\")\n",
    "print(\"Languages with tabs AND line breaks:\\n\\tPython\\n\\tC\\n\\tJavaScript\")"
   ]
  },
  {
   "cell_type": "code",
   "execution_count": 10,
   "metadata": {},
   "outputs": [
    {
     "name": "stdout",
     "output_type": "stream",
     "text": [
      "python\n"
     ]
    }
   ],
   "source": [
    "favorite_language = 'python '\n",
    "favorite_language = favorite_language.rstrip()\n",
    "print(favorite_language)"
   ]
  },
  {
   "cell_type": "markdown",
   "metadata": {},
   "source": [
    "using method .rstrip() gets rid of extra whitespace to the right of the string. .lstrip() gets rid of extra whitespace on the left side of the string. Just .strip() gets rid of extra spaces from both sides.\n",
    "Note that these methods only get rid of the whitespace temporarily, unless you reassign the value to the original variable, or assign it to a new variable."
   ]
  },
  {
   "cell_type": "code",
   "execution_count": 12,
   "metadata": {},
   "outputs": [
    {
     "name": "stdout",
     "output_type": "stream",
     "text": [
      "nostarch.com\n"
     ]
    }
   ],
   "source": [
    "nostarch_url = 'https://nostarch.com'\n",
    "simple_url = nostarch_url.removeprefix('https://')\n",
    "print(simple_url)"
   ]
  },
  {
   "cell_type": "code",
   "execution_count": 1,
   "metadata": {},
   "outputs": [
    {
     "name": "stdout",
     "output_type": "stream",
     "text": [
      "python_notes\n"
     ]
    }
   ],
   "source": [
    "file = 'python_notes.txt'\n",
    "messed_up_file = file.removesuffix('.txt')\n",
    "print(messed_up_file)"
   ]
  },
  {
   "cell_type": "code",
   "execution_count": 15,
   "metadata": {},
   "outputs": [],
   "source": [
    "message_2 = \"One of Python's strengths is its diverse community. Note the single apostrophe use inside double quotes.\""
   ]
  },
  {
   "cell_type": "code",
   "execution_count": 16,
   "metadata": {},
   "outputs": [],
   "source": [
    "message_3 = 'One of Python\"s strengths is its diverse community. It\"s grammatically wrong, but avoids issues with syntax.'"
   ]
  },
  {
   "cell_type": "code",
   "execution_count": 6,
   "metadata": {},
   "outputs": [
    {
     "name": "stdout",
     "output_type": "stream",
     "text": [
      "Hello Jane, would you like to learn some Python today?\n"
     ]
    }
   ],
   "source": [
    "name_2_3 = \"Jane\"\n",
    "print(f\"Hello {name_2_3}, would you like to learn some Python today?\")"
   ]
  },
  {
   "cell_type": "code",
   "execution_count": 9,
   "metadata": {},
   "outputs": [
    {
     "name": "stdout",
     "output_type": "stream",
     "text": [
      "jane doe lower case\n",
      "JANE DOE upper case\n",
      "Jane Doe title case\n"
     ]
    }
   ],
   "source": [
    "name_2_4 = \"jane Doe\"\n",
    "print(f\"{name_2_4.lower()} lower case\")\n",
    "print(f\"{name_2_4.upper()} upper case\")\n",
    "print(f\"{name_2_4.title()} title case\")"
   ]
  },
  {
   "cell_type": "code",
   "execution_count": 10,
   "metadata": {},
   "outputs": [
    {
     "name": "stdout",
     "output_type": "stream",
     "text": [
      "Albert Einstein once said, \"A person who never made a mistake never tried anything new.\"\n"
     ]
    }
   ],
   "source": [
    "quote_2_5 = \"A person who never made a mistake never tried anything new.\"\n",
    "name_2_5 = \"albert einstein\"\n",
    "print(f'{name_2_5.title()} once said, \"{quote_2_5}\"')"
   ]
  },
  {
   "cell_type": "code",
   "execution_count": 12,
   "metadata": {},
   "outputs": [
    {
     "name": "stdout",
     "output_type": "stream",
     "text": [
      "Albert Einstein once said, \"A person who never made a mistake never tried anything new.\"\n"
     ]
    }
   ],
   "source": [
    "quote_2_6 = \"A person who never made a mistake never tried anything new.\"\n",
    "name_2_6= \"albert einstein\"\n",
    "string_2_6 = f'{name_2_5.title()} once said, \"{quote_2_5}\"'\n",
    "print(string_2_6)"
   ]
  },
  {
   "cell_type": "code",
   "execution_count": 13,
   "metadata": {},
   "outputs": [
    {
     "name": "stdout",
     "output_type": "stream",
     "text": [
      "\tJane Doe\n",
      "\n",
      "Jane Doe\n",
      "\n",
      "\tJane Doe\n",
      "Jane Doe\n"
     ]
    }
   ],
   "source": [
    "name_2_7 = \"\\tJane Doe\\n\"\n",
    "print(name_2_7)\n",
    "print(name_2_7.lstrip())\n",
    "print(name_2_7.rstrip())\n",
    "print(name_2_7.strip())"
   ]
  },
  {
   "cell_type": "markdown",
   "metadata": {},
   "source": [
    "Asked if you can have more than 1 method affecting a variable at the same time (in the above example, both .lstrip() and .rstrip(), if .strip() didn't exist). The answer is yes, through method chaining: text.lstrip().rstrip().\n",
    "However, there are limitations: methods that modify an object in-place such as .append() for lists or .update() for dictionaries return None rather than the modified object. At that point, you'd need a workaround (suggested helper class to wrap the object and return wrapped object after each method call, or use default arguments / conditional logic within a single method to handle different cases)."
   ]
  }
 ],
 "metadata": {
  "kernelspec": {
   "display_name": "Python 3",
   "language": "python",
   "name": "python3"
  },
  "language_info": {
   "codemirror_mode": {
    "name": "ipython",
    "version": 3
   },
   "file_extension": ".py",
   "mimetype": "text/x-python",
   "name": "python",
   "nbconvert_exporter": "python",
   "pygments_lexer": "ipython3",
   "version": "3.13.6"
  }
 },
 "nbformat": 4,
 "nbformat_minor": 2
}
